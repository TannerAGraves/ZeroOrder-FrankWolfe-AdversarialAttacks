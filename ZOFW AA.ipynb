{
 "cells": [
  {
   "cell_type": "code",
   "execution_count": 1,
   "metadata": {},
   "outputs": [],
   "source": [
    "import numpy as np\n",
    "import torch\n",
    "import torch.nn as nn\n",
    "import torchvision\n",
    "import torchvision.transforms as transforms\n",
    "import matplotlib.pyplot as plt\n",
    "from math import sqrt\n",
    "\n",
    "from tqdm import tqdm"
   ]
  },
  {
   "cell_type": "code",
   "execution_count": 2,
   "metadata": {},
   "outputs": [],
   "source": [
    "batch_size = 64\n",
    "num_classes = 10\n",
    "learning_rate = 10e-3\n",
    "num_epochs = 10\n",
    "device = torch.device('cuda' if torch.cuda.is_available() else 'cpu')"
   ]
  },
  {
   "cell_type": "code",
   "execution_count": 3,
   "metadata": {},
   "outputs": [],
   "source": [
    "#Loading the dataset and preprocessing\n",
    "train_dataset = torchvision.datasets.MNIST(root = './data',\n",
    "                                           train = True,\n",
    "                                           transform = transforms.Compose([\n",
    "                                                  transforms.Resize((32,32)),\n",
    "                                                  transforms.ToTensor(),\n",
    "                                                  transforms.Normalize(mean = (0.1307,), std = (0.3081,))]),\n",
    "                                           download = True)\n",
    "\n",
    "\n",
    "test_dataset = torchvision.datasets.MNIST(root = './data',\n",
    "                                          train = False,\n",
    "                                          transform = transforms.Compose([\n",
    "                                                  transforms.Resize((32,32)),\n",
    "                                                  transforms.ToTensor(),\n",
    "                                                  transforms.Normalize(mean = (0.1325,), std = (0.3105,))]),\n",
    "                                          download=True)\n",
    "\n",
    "\n",
    "train_loader = torch.utils.data.DataLoader(dataset = train_dataset,\n",
    "                                           batch_size = batch_size,\n",
    "                                           shuffle = False)\n",
    "\n",
    "\n",
    "test_loader = torch.utils.data.DataLoader(dataset = test_dataset,\n",
    "                                           batch_size = 64, # TEST BATCH SIZE\n",
    "                                           shuffle = False)"
   ]
  },
  {
   "cell_type": "code",
   "execution_count": 4,
   "metadata": {},
   "outputs": [],
   "source": [
    "# MODEL DEFINITION FROM: https://towardsdatascience.com/implementing-yann-lecuns-lenet-5-in-pytorch-5e05a0911320\n",
    "#Defining the convolutional neural network\n",
    "class LeNet5(nn.Module):\n",
    "    def __init__(self, num_classes):\n",
    "        super(LeNet5, self).__init__()\n",
    "        self.layer1 = nn.Sequential(\n",
    "            nn.Conv2d(1, 6, kernel_size=5, stride=1, padding=0),\n",
    "            nn.BatchNorm2d(6),\n",
    "            nn.ReLU(),\n",
    "            nn.MaxPool2d(kernel_size = 2, stride = 2))\n",
    "        self.layer2 = nn.Sequential(\n",
    "            nn.Conv2d(6, 16, kernel_size=5, stride=1, padding=0),\n",
    "            nn.BatchNorm2d(16),\n",
    "            nn.ReLU(),\n",
    "            nn.MaxPool2d(kernel_size = 2, stride = 2))\n",
    "        self.fc = nn.Linear(400, 120)\n",
    "        self.relu = nn.ReLU()\n",
    "        self.fc1 = nn.Linear(120, 84)\n",
    "        self.relu1 = nn.ReLU()\n",
    "        self.fc2 = nn.Linear(84, num_classes)\n",
    "        \n",
    "    def forward(self, x):\n",
    "        out = self.layer1(x)\n",
    "        out = self.layer2(out)\n",
    "        out = out.reshape(out.size(0), -1)\n",
    "        out = self.fc(out)\n",
    "        out = self.relu(out)\n",
    "        out = self.fc1(out)\n",
    "        out = self.relu1(out)\n",
    "        out = self.fc2(out)\n",
    "        return out"
   ]
  },
  {
   "cell_type": "code",
   "execution_count": 5,
   "metadata": {},
   "outputs": [],
   "source": [
    "LeNet = LeNet5(num_classes).to(device)\n",
    "\n",
    "#Setting the loss function\n",
    "cost = nn.CrossEntropyLoss()\n",
    "\n",
    "#Setting the optimizer with the model parameters and learning rate\n",
    "optimizer = torch.optim.Adam(LeNet.parameters(), lr=learning_rate)\n",
    "\n",
    "#this is defined to print how many steps are remaining when training\n",
    "total_step = len(train_loader)"
   ]
  },
  {
   "cell_type": "code",
   "execution_count": 6,
   "metadata": {},
   "outputs": [
    {
     "data": {
      "text/plain": [
       "LeNet5(\n",
       "  (layer1): Sequential(\n",
       "    (0): Conv2d(1, 6, kernel_size=(5, 5), stride=(1, 1))\n",
       "    (1): BatchNorm2d(6, eps=1e-05, momentum=0.1, affine=True, track_running_stats=True)\n",
       "    (2): ReLU()\n",
       "    (3): MaxPool2d(kernel_size=2, stride=2, padding=0, dilation=1, ceil_mode=False)\n",
       "  )\n",
       "  (layer2): Sequential(\n",
       "    (0): Conv2d(6, 16, kernel_size=(5, 5), stride=(1, 1))\n",
       "    (1): BatchNorm2d(16, eps=1e-05, momentum=0.1, affine=True, track_running_stats=True)\n",
       "    (2): ReLU()\n",
       "    (3): MaxPool2d(kernel_size=2, stride=2, padding=0, dilation=1, ceil_mode=False)\n",
       "  )\n",
       "  (fc): Linear(in_features=400, out_features=120, bias=True)\n",
       "  (relu): ReLU()\n",
       "  (fc1): Linear(in_features=120, out_features=84, bias=True)\n",
       "  (relu1): ReLU()\n",
       "  (fc2): Linear(in_features=84, out_features=10, bias=True)\n",
       ")"
      ]
     },
     "execution_count": 6,
     "metadata": {},
     "output_type": "execute_result"
    }
   ],
   "source": [
    "# LOAD FROM SAVED FILE\n",
    "LeNet = torch.load('LeNet.pth')\n",
    "# SET TO EVALUATION MODE\n",
    "LeNet.eval()"
   ]
  },
  {
   "cell_type": "code",
   "execution_count": 7,
   "metadata": {},
   "outputs": [],
   "source": [
    "def flatten_data(batched_data):\n",
    "    b, _, d, _ = batched_data.shape\n",
    "    return batched_data.view(b, 1, d*d)\n",
    "\n",
    "def unflatten_data(flattened_data, d):\n",
    "    b, _ = flattened_data.shape[:2]\n",
    "    return flattened_data.view(b, 1, d, d)"
   ]
  },
  {
   "cell_type": "code",
   "execution_count": 8,
   "metadata": {},
   "outputs": [],
   "source": [
    "def F_torch(x, y, model, queries = None):\n",
    "    \"\"\"\n",
    "    Loss function for all the examples\n",
    "\n",
    "    Input:\n",
    "    - x: images [batch_size, channels, height, width]\n",
    "    - y: true labels of the images [batch_size]\n",
    "    - model: the PyTorch model used for prediction\n",
    "    - queries - running total of model calls (optional)\n",
    "\n",
    "    Returns:\n",
    "    - Loss: computed loss\n",
    "    \"\"\"\n",
    "    if queries != None:\n",
    "        queries[0] += 1\n",
    "    f = model(x)\n",
    "    f_yi = torch.gather(f, 1, y.view(-1, 1)).squeeze()\n",
    "    \n",
    "    # mask correct class\n",
    "    mask = torch.arange(f.size(1)).expand(f.size(0), f.size(1)).to(y.device)# (B, 10)\n",
    "    mask = mask != y.view(-1, 1)\n",
    "    # Use sentinel to prevent wrong classes from getting selected\n",
    "    f_j = torch.where(mask, f, torch.tensor(-1e10).to(f.device)).max(dim=1).values\n",
    "    # Compute the loss and apply the ReLU operation (hinge loss)\n",
    "    loss = torch.relu(f_yi - f_j)\n",
    "    \n",
    "    return loss.mean() #avg across batch\n",
    "\n",
    "def uniGE(x, y, q, delta, d, model, queries = None):\n",
    "    \"\"\"\n",
    "    Estimates gradient by taking mean of first order approximations in q different directions\n",
    "\n",
    "    Input:\n",
    "    - x: image [batch_size, channels, height, width]\n",
    "    - y: true labels of the images [batch_size]\n",
    "    - q: number of samples for grad calculation\n",
    "    - v: Step size\n",
    "    - d: dimensionality of the image (typically, channels x height x width)\n",
    "    - model: the PyTorch model used for prediction inside the F_torch function\n",
    "\n",
    "    Returns:\n",
    "    - Averaged gradient estimate\n",
    "    \"\"\"\n",
    "    device = x.device  # Get the device of the input tensor (either CPU or CUDA)\n",
    "\n",
    "    # Create a tensor with standard normal values for all q directions\n",
    "    u = torch.randn((q, d, d), device=device)\n",
    "\n",
    "    # Compute the F function value for the original point\n",
    "    F_0 = F_torch(x, y, model, queries)\n",
    "    \n",
    "    g = 0\n",
    "    for j in range(q):\n",
    "        F_forward = F_torch(x + delta*u[j], y, model, queries)\n",
    "        g = g + (F_forward - F_0)*u[j]\n",
    "    grad = (d / (delta * q)) * g\n",
    "\n",
    "    return grad\n",
    "\n"
   ]
  },
  {
   "cell_type": "code",
   "execution_count": 9,
   "metadata": {},
   "outputs": [],
   "source": [
    "def e(i, d, device):\n",
    "    \"\"\"\n",
    "    Orthogonal basis vector in PyTorch\n",
    "\n",
    "    Input:\n",
    "    - i: index\n",
    "    - d: dimensions\n",
    "    - device: the device (CPU or CUDA) to place the tensor on\n",
    "\n",
    "    Returns:\n",
    "    - PyTorch tensor of shape [1, d, d]\n",
    "    \"\"\"\n",
    "    ei = torch.zeros(1, d, d, device=device)\n",
    "    ei[0, i//d, i%d] = 1\n",
    "    return ei\n",
    "\n",
    "def cooGE(x, y_true, mu, d, model):\n",
    "    \"\"\"\n",
    "    PyTorch version of the coordinate-wise gradient estimator.\n",
    "\n",
    "    Input:\n",
    "    - x: PyTorch tensor of the images of shape [batch_size, 1, d, d]\n",
    "    - y_true: PyTorch tensor of the true labels of the images of shape [batch_size]\n",
    "    - mu: smoothing parameter\n",
    "    - d: dimensions of the image (typically height x width for a grayscale image)\n",
    "    - model: PyTorch model for predictions inside the F_Par_torch function (or your appropriate loss function)\n",
    "\n",
    "    Returns:\n",
    "    - PyTorch tensor of the coordinate-wise gradient estimate\n",
    "    \"\"\"\n",
    "    device = x.device  # Get the device of the input tensor (either CPU or CUDA)\n",
    "    \n",
    "    q = torch.zeros(d, d, device=device)  # Assuming d is the height x width of the image\n",
    "\n",
    "    for j in range(d*d):\n",
    "        F_plus = F_torch(x + mu * e(j, d,device).view(1, 1, d, d), y_true, model)\n",
    "        F_minus = F_torch(x - mu * e(j, d,device).view(1, 1, d, d), y_true, model)\n",
    "        diff = F_plus - F_minus\n",
    "        q = q + diff * e(j, d, device)\n",
    "\n",
    "    return q / (2 * mu)"
   ]
  },
  {
   "cell_type": "code",
   "execution_count": 10,
   "metadata": {},
   "outputs": [],
   "source": [
    "from torch.utils.data import DataLoader\n",
    "\n",
    "# Create an unbatched DataLoader\n",
    "test_grabber = DataLoader(test_dataset, batch_size=1, shuffle=False)\n",
    "\n",
    "def get_examples(n, c, test_loader):\n",
    "    \"\"\"\n",
    "    Return x, x_ori, y.\n",
    "    \"\"\"\n",
    "    x_lst = []\n",
    "    y_lst = []\n",
    "    \n",
    "    for a, l in test_loader:\n",
    "        if l.item() == c:\n",
    "            x_lst.append(a)\n",
    "            y_lst.append(l)\n",
    "            \n",
    "        if len(x_lst) == n:\n",
    "            break\n",
    "\n",
    "    x_ori = torch.stack(x_lst).view((n,1,32,32))\n",
    "    y = torch.stack(y_lst)\n",
    "    x = x_ori.clone()\n",
    "    return x, x_ori, y"
   ]
  },
  {
   "cell_type": "code",
   "execution_count": 11,
   "metadata": {},
   "outputs": [],
   "source": [
    "def ZOFW(T, d, s, q, x, y, model, GE_step=-1, alpha=-1, B=1):\n",
    "    device = x.device \n",
    "\n",
    "    if GE_step == -1:\n",
    "        GE_step = sqrt(2 / (T * (d + 3)**3))\n",
    "    if alpha == -1:\n",
    "        alpha = 1 / torch.sqrt(torch.tensor(T, dtype=torch.float32))\n",
    "    queries = [0]\n",
    "    query_hist = []\n",
    "    x_ori = x.clone()\n",
    "    loss_hist = []\n",
    "    perb = []\n",
    "    loss_hist.append(F_torch(x, y, model).item())\n",
    "    print(\"E:\", 0, \"Loss:\", F_torch(x_ori, y, model, queries).item(), \"Dist:\", torch.max(torch.abs(x - x_ori)).item(), \"Queries:\", queries[0])\n",
    "    for t in range(T):\n",
    "        v_t = 0\n",
    "        for i in tqdm(range(x.shape[0])):\n",
    "            v_t += uniGE(x[i:i+1], y[i:i+1], q, GE_step, 32, model, queries)\n",
    "\n",
    "        v_t = (1 / x.shape[0]) * v_t\n",
    "\n",
    "        x_t = -s * torch.sign(v_t) + x_ori \n",
    "        x = (1 - alpha) * x + alpha * x_t\n",
    "        perb.append(x)\n",
    "        loss_hist.append(F_torch(x, y, model).item())\n",
    "        print(\"E:\", t+1, \"Loss:\", loss_hist[t], \"Dist:\", torch.max(torch.abs(x - x_ori)).item(), \"Queries:\", queries[0])\n",
    "    query_hist.append(queries)\n",
    "    print(f\"End Loss:{loss_hist[-1]}\")\n",
    "    return loss_hist, perb, query_hist\n"
   ]
  },
  {
   "cell_type": "code",
   "execution_count": 13,
   "metadata": {},
   "outputs": [
    {
     "name": "stdout",
     "output_type": "stream",
     "text": [
      "E: 0 Loss: 12.895155906677246 Dist: 0.0 Queries: 1\n"
     ]
    },
    {
     "name": "stderr",
     "output_type": "stream",
     "text": [
      "100%|██████████| 100/100 [00:08<00:00, 12.13it/s]\n"
     ]
    },
    {
     "name": "stdout",
     "output_type": "stream",
     "text": [
      "E: 1 Loss: 12.895155906677246 Dist: 0.010000228881835938 Queries: 3101\n"
     ]
    },
    {
     "name": "stderr",
     "output_type": "stream",
     "text": [
      "100%|██████████| 100/100 [00:09<00:00, 10.59it/s]\n"
     ]
    },
    {
     "name": "stdout",
     "output_type": "stream",
     "text": [
      "E: 2 Loss: 12.675017356872559 Dist: 0.01900029182434082 Queries: 6201\n"
     ]
    },
    {
     "name": "stderr",
     "output_type": "stream",
     "text": [
      "100%|██████████| 100/100 [00:09<00:00, 10.11it/s]\n"
     ]
    },
    {
     "name": "stdout",
     "output_type": "stream",
     "text": [
      "E: 3 Loss: 12.479622840881348 Dist: 0.027100324630737305 Queries: 9301\n"
     ]
    },
    {
     "name": "stderr",
     "output_type": "stream",
     "text": [
      "100%|██████████| 100/100 [00:07<00:00, 12.55it/s]\n"
     ]
    },
    {
     "name": "stdout",
     "output_type": "stream",
     "text": [
      "E: 4 Loss: 12.281079292297363 Dist: 0.03439044952392578 Queries: 12401\n"
     ]
    },
    {
     "name": "stderr",
     "output_type": "stream",
     "text": [
      "100%|██████████| 100/100 [00:08<00:00, 12.06it/s]\n"
     ]
    },
    {
     "name": "stdout",
     "output_type": "stream",
     "text": [
      "E: 5 Loss: 12.103567123413086 Dist: 0.04095149040222168 Queries: 15501\n"
     ]
    },
    {
     "name": "stderr",
     "output_type": "stream",
     "text": [
      "100%|██████████| 100/100 [00:08<00:00, 11.74it/s]\n"
     ]
    },
    {
     "name": "stdout",
     "output_type": "stream",
     "text": [
      "E: 6 Loss: 11.968750953674316 Dist: 0.04685640335083008 Queries: 18601\n"
     ]
    },
    {
     "name": "stderr",
     "output_type": "stream",
     "text": [
      "100%|██████████| 100/100 [00:08<00:00, 11.77it/s]\n"
     ]
    },
    {
     "name": "stdout",
     "output_type": "stream",
     "text": [
      "E: 7 Loss: 11.805353164672852 Dist: 0.05217099189758301 Queries: 21701\n"
     ]
    },
    {
     "name": "stderr",
     "output_type": "stream",
     "text": [
      "100%|██████████| 100/100 [00:08<00:00, 12.17it/s]\n"
     ]
    },
    {
     "name": "stdout",
     "output_type": "stream",
     "text": [
      "E: 8 Loss: 11.676758766174316 Dist: 0.056954145431518555 Queries: 24801\n"
     ]
    },
    {
     "name": "stderr",
     "output_type": "stream",
     "text": [
      "100%|██████████| 100/100 [00:08<00:00, 11.90it/s]\n"
     ]
    },
    {
     "name": "stdout",
     "output_type": "stream",
     "text": [
      "E: 9 Loss: 11.537544250488281 Dist: 0.061258792877197266 Queries: 27901\n"
     ]
    },
    {
     "name": "stderr",
     "output_type": "stream",
     "text": [
      "100%|██████████| 100/100 [00:10<00:00,  9.94it/s]\n"
     ]
    },
    {
     "name": "stdout",
     "output_type": "stream",
     "text": [
      "E: 10 Loss: 11.412997245788574 Dist: 0.06513309478759766 Queries: 31001\n"
     ]
    },
    {
     "name": "stderr",
     "output_type": "stream",
     "text": [
      "100%|██████████| 100/100 [00:09<00:00, 10.85it/s]\n"
     ]
    },
    {
     "name": "stdout",
     "output_type": "stream",
     "text": [
      "E: 11 Loss: 11.319640159606934 Dist: 0.06861996650695801 Queries: 34101\n"
     ]
    },
    {
     "name": "stderr",
     "output_type": "stream",
     "text": [
      "100%|██████████| 100/100 [00:08<00:00, 11.88it/s]\n"
     ]
    },
    {
     "name": "stdout",
     "output_type": "stream",
     "text": [
      "E: 12 Loss: 11.230419158935547 Dist: 0.07175803184509277 Queries: 37201\n"
     ]
    },
    {
     "name": "stderr",
     "output_type": "stream",
     "text": [
      "100%|██████████| 100/100 [00:08<00:00, 11.12it/s]\n"
     ]
    },
    {
     "name": "stdout",
     "output_type": "stream",
     "text": [
      "E: 13 Loss: 11.156424522399902 Dist: 0.07458233833312988 Queries: 40301\n"
     ]
    },
    {
     "name": "stderr",
     "output_type": "stream",
     "text": [
      "100%|██████████| 100/100 [00:08<00:00, 11.48it/s]\n"
     ]
    },
    {
     "name": "stdout",
     "output_type": "stream",
     "text": [
      "E: 14 Loss: 11.090519905090332 Dist: 0.07712435722351074 Queries: 43401\n"
     ]
    },
    {
     "name": "stderr",
     "output_type": "stream",
     "text": [
      "100%|██████████| 100/100 [00:07<00:00, 12.60it/s]\n"
     ]
    },
    {
     "name": "stdout",
     "output_type": "stream",
     "text": [
      "E: 15 Loss: 11.027496337890625 Dist: 0.07941198348999023 Queries: 46501\n"
     ]
    },
    {
     "name": "stderr",
     "output_type": "stream",
     "text": [
      "100%|██████████| 100/100 [00:07<00:00, 12.56it/s]\n"
     ]
    },
    {
     "name": "stdout",
     "output_type": "stream",
     "text": [
      "E: 16 Loss: 10.964570045471191 Dist: 0.08147096633911133 Queries: 49601\n"
     ]
    },
    {
     "name": "stderr",
     "output_type": "stream",
     "text": [
      "100%|██████████| 100/100 [00:08<00:00, 12.49it/s]\n"
     ]
    },
    {
     "name": "stdout",
     "output_type": "stream",
     "text": [
      "E: 17 Loss: 10.930072784423828 Dist: 0.08332395553588867 Queries: 52701\n"
     ]
    },
    {
     "name": "stderr",
     "output_type": "stream",
     "text": [
      "100%|██████████| 100/100 [00:08<00:00, 12.13it/s]\n"
     ]
    },
    {
     "name": "stdout",
     "output_type": "stream",
     "text": [
      "E: 18 Loss: 10.873865127563477 Dist: 0.0849916934967041 Queries: 55801\n"
     ]
    },
    {
     "name": "stderr",
     "output_type": "stream",
     "text": [
      "100%|██████████| 100/100 [00:07<00:00, 12.59it/s]\n"
     ]
    },
    {
     "name": "stdout",
     "output_type": "stream",
     "text": [
      "E: 19 Loss: 10.836993217468262 Dist: 0.08649277687072754 Queries: 58901\n"
     ]
    },
    {
     "name": "stderr",
     "output_type": "stream",
     "text": [
      "100%|██████████| 100/100 [00:08<00:00, 12.25it/s]\n"
     ]
    },
    {
     "name": "stdout",
     "output_type": "stream",
     "text": [
      "E: 20 Loss: 10.794249534606934 Dist: 0.08784365653991699 Queries: 62001\n"
     ]
    },
    {
     "name": "stderr",
     "output_type": "stream",
     "text": [
      "100%|██████████| 100/100 [00:07<00:00, 12.70it/s]\n"
     ]
    },
    {
     "name": "stdout",
     "output_type": "stream",
     "text": [
      "E: 21 Loss: 10.75053596496582 Dist: 0.08905935287475586 Queries: 65101\n"
     ]
    },
    {
     "name": "stderr",
     "output_type": "stream",
     "text": [
      "100%|██████████| 100/100 [00:08<00:00, 12.43it/s]\n"
     ]
    },
    {
     "name": "stdout",
     "output_type": "stream",
     "text": [
      "E: 22 Loss: 10.717120170593262 Dist: 0.09015345573425293 Queries: 68201\n"
     ]
    },
    {
     "name": "stderr",
     "output_type": "stream",
     "text": [
      "100%|██████████| 100/100 [00:08<00:00, 12.18it/s]\n"
     ]
    },
    {
     "name": "stdout",
     "output_type": "stream",
     "text": [
      "E: 23 Loss: 10.671860694885254 Dist: 0.09113836288452148 Queries: 71301\n"
     ]
    },
    {
     "name": "stderr",
     "output_type": "stream",
     "text": [
      "100%|██████████| 100/100 [00:08<00:00, 12.00it/s]\n"
     ]
    },
    {
     "name": "stdout",
     "output_type": "stream",
     "text": [
      "E: 24 Loss: 10.654385566711426 Dist: 0.09202456474304199 Queries: 74401\n"
     ]
    },
    {
     "name": "stderr",
     "output_type": "stream",
     "text": [
      "100%|██████████| 100/100 [00:07<00:00, 12.74it/s]\n"
     ]
    },
    {
     "name": "stdout",
     "output_type": "stream",
     "text": [
      "E: 25 Loss: 10.635416030883789 Dist: 0.09282231330871582 Queries: 77501\n"
     ]
    },
    {
     "name": "stderr",
     "output_type": "stream",
     "text": [
      "100%|██████████| 100/100 [00:07<00:00, 12.54it/s]\n"
     ]
    },
    {
     "name": "stdout",
     "output_type": "stream",
     "text": [
      "E: 26 Loss: 10.613363265991211 Dist: 0.09354019165039062 Queries: 80601\n"
     ]
    },
    {
     "name": "stderr",
     "output_type": "stream",
     "text": [
      "100%|██████████| 100/100 [00:08<00:00, 11.56it/s]\n"
     ]
    },
    {
     "name": "stdout",
     "output_type": "stream",
     "text": [
      "E: 27 Loss: 10.60051155090332 Dist: 0.09418630599975586 Queries: 83701\n"
     ]
    },
    {
     "name": "stderr",
     "output_type": "stream",
     "text": [
      "100%|██████████| 100/100 [00:07<00:00, 12.61it/s]\n"
     ]
    },
    {
     "name": "stdout",
     "output_type": "stream",
     "text": [
      "E: 28 Loss: 10.57708740234375 Dist: 0.09476780891418457 Queries: 86801\n"
     ]
    },
    {
     "name": "stderr",
     "output_type": "stream",
     "text": [
      "100%|██████████| 100/100 [00:08<00:00, 11.92it/s]\n"
     ]
    },
    {
     "name": "stdout",
     "output_type": "stream",
     "text": [
      "E: 29 Loss: 10.563190460205078 Dist: 0.0952911376953125 Queries: 89901\n"
     ]
    },
    {
     "name": "stderr",
     "output_type": "stream",
     "text": [
      "100%|██████████| 100/100 [00:09<00:00, 10.85it/s]\n"
     ]
    },
    {
     "name": "stdout",
     "output_type": "stream",
     "text": [
      "E: 30 Loss: 10.544672966003418 Dist: 0.09576225280761719 Queries: 93001\n"
     ]
    },
    {
     "name": "stderr",
     "output_type": "stream",
     "text": [
      "100%|██████████| 100/100 [00:08<00:00, 12.38it/s]\n"
     ]
    },
    {
     "name": "stdout",
     "output_type": "stream",
     "text": [
      "E: 31 Loss: 10.54762077331543 Dist: 0.09618616104125977 Queries: 96101\n"
     ]
    },
    {
     "name": "stderr",
     "output_type": "stream",
     "text": [
      "100%|██████████| 100/100 [00:07<00:00, 12.68it/s]\n"
     ]
    },
    {
     "name": "stdout",
     "output_type": "stream",
     "text": [
      "E: 32 Loss: 10.518450736999512 Dist: 0.09656763076782227 Queries: 99201\n"
     ]
    },
    {
     "name": "stderr",
     "output_type": "stream",
     "text": [
      "100%|██████████| 100/100 [00:08<00:00, 12.31it/s]\n"
     ]
    },
    {
     "name": "stdout",
     "output_type": "stream",
     "text": [
      "E: 33 Loss: 10.480511665344238 Dist: 0.09691095352172852 Queries: 102301\n"
     ]
    },
    {
     "name": "stderr",
     "output_type": "stream",
     "text": [
      "100%|██████████| 100/100 [00:08<00:00, 12.46it/s]\n"
     ]
    },
    {
     "name": "stdout",
     "output_type": "stream",
     "text": [
      "E: 34 Loss: 10.458595275878906 Dist: 0.09721994400024414 Queries: 105401\n"
     ]
    },
    {
     "name": "stderr",
     "output_type": "stream",
     "text": [
      "100%|██████████| 100/100 [00:08<00:00, 12.48it/s]\n"
     ]
    },
    {
     "name": "stdout",
     "output_type": "stream",
     "text": [
      "E: 35 Loss: 10.442675590515137 Dist: 0.09749817848205566 Queries: 108501\n"
     ]
    },
    {
     "name": "stderr",
     "output_type": "stream",
     "text": [
      "100%|██████████| 100/100 [00:08<00:00, 12.35it/s]\n"
     ]
    },
    {
     "name": "stdout",
     "output_type": "stream",
     "text": [
      "E: 36 Loss: 10.416609764099121 Dist: 0.0977485179901123 Queries: 111601\n"
     ]
    },
    {
     "name": "stderr",
     "output_type": "stream",
     "text": [
      "100%|██████████| 100/100 [00:07<00:00, 12.65it/s]\n"
     ]
    },
    {
     "name": "stdout",
     "output_type": "stream",
     "text": [
      "E: 37 Loss: 10.382340431213379 Dist: 0.09797382354736328 Queries: 114701\n"
     ]
    },
    {
     "name": "stderr",
     "output_type": "stream",
     "text": [
      "100%|██████████| 100/100 [00:08<00:00, 12.38it/s]\n"
     ]
    },
    {
     "name": "stdout",
     "output_type": "stream",
     "text": [
      "E: 38 Loss: 10.392739295959473 Dist: 0.09817647933959961 Queries: 117801\n"
     ]
    },
    {
     "name": "stderr",
     "output_type": "stream",
     "text": [
      "100%|██████████| 100/100 [00:08<00:00, 12.23it/s]\n"
     ]
    },
    {
     "name": "stdout",
     "output_type": "stream",
     "text": [
      "E: 39 Loss: 10.384432792663574 Dist: 0.0983588695526123 Queries: 120901\n"
     ]
    },
    {
     "name": "stderr",
     "output_type": "stream",
     "text": [
      "100%|██████████| 100/100 [00:08<00:00, 12.48it/s]\n"
     ]
    },
    {
     "name": "stdout",
     "output_type": "stream",
     "text": [
      "E: 40 Loss: 10.394478797912598 Dist: 0.09852313995361328 Queries: 124001\n"
     ]
    },
    {
     "name": "stderr",
     "output_type": "stream",
     "text": [
      "100%|██████████| 100/100 [00:08<00:00, 11.93it/s]\n"
     ]
    },
    {
     "name": "stdout",
     "output_type": "stream",
     "text": [
      "E: 41 Loss: 10.387892723083496 Dist: 0.09867095947265625 Queries: 127101\n"
     ]
    },
    {
     "name": "stderr",
     "output_type": "stream",
     "text": [
      "100%|██████████| 100/100 [00:07<00:00, 12.52it/s]\n"
     ]
    },
    {
     "name": "stdout",
     "output_type": "stream",
     "text": [
      "E: 42 Loss: 10.368494033813477 Dist: 0.09880399703979492 Queries: 130201\n"
     ]
    },
    {
     "name": "stderr",
     "output_type": "stream",
     "text": [
      "100%|██████████| 100/100 [00:07<00:00, 12.62it/s]\n"
     ]
    },
    {
     "name": "stdout",
     "output_type": "stream",
     "text": [
      "E: 43 Loss: 10.353445053100586 Dist: 0.0989236831665039 Queries: 133301\n"
     ]
    },
    {
     "name": "stderr",
     "output_type": "stream",
     "text": [
      "100%|██████████| 100/100 [00:07<00:00, 12.54it/s]\n"
     ]
    },
    {
     "name": "stdout",
     "output_type": "stream",
     "text": [
      "E: 44 Loss: 10.344172477722168 Dist: 0.09903144836425781 Queries: 136401\n"
     ]
    },
    {
     "name": "stderr",
     "output_type": "stream",
     "text": [
      "100%|██████████| 100/100 [00:08<00:00, 12.43it/s]\n"
     ]
    },
    {
     "name": "stdout",
     "output_type": "stream",
     "text": [
      "E: 45 Loss: 10.364397048950195 Dist: 0.09912848472595215 Queries: 139501\n"
     ]
    },
    {
     "name": "stderr",
     "output_type": "stream",
     "text": [
      "100%|██████████| 100/100 [00:08<00:00, 12.19it/s]\n"
     ]
    },
    {
     "name": "stdout",
     "output_type": "stream",
     "text": [
      "E: 46 Loss: 10.371320724487305 Dist: 0.09921574592590332 Queries: 142601\n"
     ]
    },
    {
     "name": "stderr",
     "output_type": "stream",
     "text": [
      "100%|██████████| 100/100 [00:07<00:00, 12.52it/s]\n"
     ]
    },
    {
     "name": "stdout",
     "output_type": "stream",
     "text": [
      "E: 47 Loss: 10.368246078491211 Dist: 0.09929442405700684 Queries: 145701\n"
     ]
    },
    {
     "name": "stderr",
     "output_type": "stream",
     "text": [
      "100%|██████████| 100/100 [00:07<00:00, 12.55it/s]\n"
     ]
    },
    {
     "name": "stdout",
     "output_type": "stream",
     "text": [
      "E: 48 Loss: 10.361928939819336 Dist: 0.099365234375 Queries: 148801\n"
     ]
    },
    {
     "name": "stderr",
     "output_type": "stream",
     "text": [
      "100%|██████████| 100/100 [00:07<00:00, 12.53it/s]\n"
     ]
    },
    {
     "name": "stdout",
     "output_type": "stream",
     "text": [
      "E: 49 Loss: 10.332121849060059 Dist: 0.09942889213562012 Queries: 151901\n"
     ]
    },
    {
     "name": "stderr",
     "output_type": "stream",
     "text": [
      "100%|██████████| 100/100 [00:08<00:00, 12.45it/s]\n"
     ]
    },
    {
     "name": "stdout",
     "output_type": "stream",
     "text": [
      "E: 50 Loss: 10.322714805603027 Dist: 0.09948611259460449 Queries: 155001\n"
     ]
    },
    {
     "name": "stderr",
     "output_type": "stream",
     "text": [
      "100%|██████████| 100/100 [00:08<00:00, 12.11it/s]\n"
     ]
    },
    {
     "name": "stdout",
     "output_type": "stream",
     "text": [
      "E: 51 Loss: 10.302844047546387 Dist: 0.09953761100769043 Queries: 158101\n"
     ]
    },
    {
     "name": "stderr",
     "output_type": "stream",
     "text": [
      "100%|██████████| 100/100 [00:08<00:00, 12.34it/s]\n"
     ]
    },
    {
     "name": "stdout",
     "output_type": "stream",
     "text": [
      "E: 52 Loss: 10.295906066894531 Dist: 0.09958362579345703 Queries: 161201\n"
     ]
    },
    {
     "name": "stderr",
     "output_type": "stream",
     "text": [
      "100%|██████████| 100/100 [00:08<00:00, 12.27it/s]\n"
     ]
    },
    {
     "name": "stdout",
     "output_type": "stream",
     "text": [
      "E: 53 Loss: 10.293461799621582 Dist: 0.0996253490447998 Queries: 164301\n"
     ]
    },
    {
     "name": "stderr",
     "output_type": "stream",
     "text": [
      "100%|██████████| 100/100 [00:08<00:00, 12.18it/s]\n"
     ]
    },
    {
     "name": "stdout",
     "output_type": "stream",
     "text": [
      "E: 54 Loss: 10.295183181762695 Dist: 0.09966301918029785 Queries: 167401\n"
     ]
    },
    {
     "name": "stderr",
     "output_type": "stream",
     "text": [
      "100%|██████████| 100/100 [00:08<00:00, 12.46it/s]\n"
     ]
    },
    {
     "name": "stdout",
     "output_type": "stream",
     "text": [
      "E: 55 Loss: 10.311834335327148 Dist: 0.09969615936279297 Queries: 170501\n"
     ]
    },
    {
     "name": "stderr",
     "output_type": "stream",
     "text": [
      "100%|██████████| 100/100 [00:07<00:00, 12.59it/s]\n"
     ]
    },
    {
     "name": "stdout",
     "output_type": "stream",
     "text": [
      "E: 56 Loss: 10.313094139099121 Dist: 0.09972667694091797 Queries: 173601\n"
     ]
    },
    {
     "name": "stderr",
     "output_type": "stream",
     "text": [
      "100%|██████████| 100/100 [00:08<00:00, 12.43it/s]\n"
     ]
    },
    {
     "name": "stdout",
     "output_type": "stream",
     "text": [
      "E: 57 Loss: 10.307538986206055 Dist: 0.09975409507751465 Queries: 176701\n"
     ]
    },
    {
     "name": "stderr",
     "output_type": "stream",
     "text": [
      "100%|██████████| 100/100 [00:08<00:00, 12.15it/s]\n"
     ]
    },
    {
     "name": "stdout",
     "output_type": "stream",
     "text": [
      "E: 58 Loss: 10.297222137451172 Dist: 0.09977865219116211 Queries: 179801\n"
     ]
    },
    {
     "name": "stderr",
     "output_type": "stream",
     "text": [
      "100%|██████████| 100/100 [00:08<00:00, 12.35it/s]\n"
     ]
    },
    {
     "name": "stdout",
     "output_type": "stream",
     "text": [
      "E: 59 Loss: 10.280793190002441 Dist: 0.09980082511901855 Queries: 182901\n"
     ]
    },
    {
     "name": "stderr",
     "output_type": "stream",
     "text": [
      "100%|██████████| 100/100 [00:08<00:00, 12.09it/s]\n"
     ]
    },
    {
     "name": "stdout",
     "output_type": "stream",
     "text": [
      "E: 60 Loss: 10.277935981750488 Dist: 0.09982085227966309 Queries: 186001\n"
     ]
    },
    {
     "name": "stderr",
     "output_type": "stream",
     "text": [
      "100%|██████████| 100/100 [00:08<00:00, 12.49it/s]\n"
     ]
    },
    {
     "name": "stdout",
     "output_type": "stream",
     "text": [
      "E: 61 Loss: 10.269603729248047 Dist: 0.0998387336730957 Queries: 189101\n"
     ]
    },
    {
     "name": "stderr",
     "output_type": "stream",
     "text": [
      "100%|██████████| 100/100 [00:08<00:00, 12.27it/s]\n"
     ]
    },
    {
     "name": "stdout",
     "output_type": "stream",
     "text": [
      "E: 62 Loss: 10.268999099731445 Dist: 0.09985494613647461 Queries: 192201\n"
     ]
    },
    {
     "name": "stderr",
     "output_type": "stream",
     "text": [
      "100%|██████████| 100/100 [00:11<00:00,  8.93it/s]\n"
     ]
    },
    {
     "name": "stdout",
     "output_type": "stream",
     "text": [
      "E: 63 Loss: 10.257040977478027 Dist: 0.0998694896697998 Queries: 195301\n"
     ]
    },
    {
     "name": "stderr",
     "output_type": "stream",
     "text": [
      "100%|██████████| 100/100 [00:08<00:00, 12.16it/s]\n"
     ]
    },
    {
     "name": "stdout",
     "output_type": "stream",
     "text": [
      "E: 64 Loss: 10.249429702758789 Dist: 0.09988260269165039 Queries: 198401\n"
     ]
    },
    {
     "name": "stderr",
     "output_type": "stream",
     "text": [
      "100%|██████████| 100/100 [00:08<00:00, 12.46it/s]\n"
     ]
    },
    {
     "name": "stdout",
     "output_type": "stream",
     "text": [
      "E: 65 Loss: 10.256481170654297 Dist: 0.09989428520202637 Queries: 201501\n"
     ]
    },
    {
     "name": "stderr",
     "output_type": "stream",
     "text": [
      "100%|██████████| 100/100 [00:08<00:00, 12.28it/s]\n"
     ]
    },
    {
     "name": "stdout",
     "output_type": "stream",
     "text": [
      "E: 66 Loss: 10.24829387664795 Dist: 0.09990477561950684 Queries: 204601\n"
     ]
    },
    {
     "name": "stderr",
     "output_type": "stream",
     "text": [
      "100%|██████████| 100/100 [00:08<00:00, 12.25it/s]\n"
     ]
    },
    {
     "name": "stdout",
     "output_type": "stream",
     "text": [
      "E: 67 Loss: 10.222023010253906 Dist: 0.0999143123626709 Queries: 207701\n"
     ]
    },
    {
     "name": "stderr",
     "output_type": "stream",
     "text": [
      "100%|██████████| 100/100 [00:08<00:00, 12.31it/s]\n"
     ]
    },
    {
     "name": "stdout",
     "output_type": "stream",
     "text": [
      "E: 68 Loss: 10.204158782958984 Dist: 0.09992289543151855 Queries: 210801\n"
     ]
    },
    {
     "name": "stderr",
     "output_type": "stream",
     "text": [
      "100%|██████████| 100/100 [00:08<00:00, 12.27it/s]\n"
     ]
    },
    {
     "name": "stdout",
     "output_type": "stream",
     "text": [
      "E: 69 Loss: 10.18960189819336 Dist: 0.09993064403533936 Queries: 213901\n"
     ]
    },
    {
     "name": "stderr",
     "output_type": "stream",
     "text": [
      "100%|██████████| 100/100 [00:08<00:00, 12.02it/s]\n"
     ]
    },
    {
     "name": "stdout",
     "output_type": "stream",
     "text": [
      "E: 70 Loss: 10.188606262207031 Dist: 0.0999375581741333 Queries: 217001\n"
     ]
    },
    {
     "name": "stderr",
     "output_type": "stream",
     "text": [
      "100%|██████████| 100/100 [00:08<00:00, 12.20it/s]\n"
     ]
    },
    {
     "name": "stdout",
     "output_type": "stream",
     "text": [
      "E: 71 Loss: 10.20970344543457 Dist: 0.09994387626647949 Queries: 220101\n"
     ]
    },
    {
     "name": "stderr",
     "output_type": "stream",
     "text": [
      "100%|██████████| 100/100 [00:08<00:00, 12.29it/s]\n"
     ]
    },
    {
     "name": "stdout",
     "output_type": "stream",
     "text": [
      "E: 72 Loss: 10.210298538208008 Dist: 0.09994947910308838 Queries: 223201\n"
     ]
    },
    {
     "name": "stderr",
     "output_type": "stream",
     "text": [
      "100%|██████████| 100/100 [00:08<00:00, 12.14it/s]\n"
     ]
    },
    {
     "name": "stdout",
     "output_type": "stream",
     "text": [
      "E: 73 Loss: 10.191149711608887 Dist: 0.09995460510253906 Queries: 226301\n"
     ]
    },
    {
     "name": "stderr",
     "output_type": "stream",
     "text": [
      "100%|██████████| 100/100 [00:08<00:00, 12.39it/s]\n"
     ]
    },
    {
     "name": "stdout",
     "output_type": "stream",
     "text": [
      "E: 74 Loss: 10.219707489013672 Dist: 0.09995913505554199 Queries: 229401\n"
     ]
    },
    {
     "name": "stderr",
     "output_type": "stream",
     "text": [
      "100%|██████████| 100/100 [00:08<00:00, 12.40it/s]\n"
     ]
    },
    {
     "name": "stdout",
     "output_type": "stream",
     "text": [
      "E: 75 Loss: 10.199764251708984 Dist: 0.09996318817138672 Queries: 232501\n"
     ]
    },
    {
     "name": "stderr",
     "output_type": "stream",
     "text": [
      "100%|██████████| 100/100 [00:08<00:00, 12.21it/s]\n"
     ]
    },
    {
     "name": "stdout",
     "output_type": "stream",
     "text": [
      "E: 76 Loss: 10.210957527160645 Dist: 0.09996688365936279 Queries: 235601\n"
     ]
    },
    {
     "name": "stderr",
     "output_type": "stream",
     "text": [
      "100%|██████████| 100/100 [00:08<00:00, 12.22it/s]\n"
     ]
    },
    {
     "name": "stdout",
     "output_type": "stream",
     "text": [
      "E: 77 Loss: 10.220172882080078 Dist: 0.09997022151947021 Queries: 238701\n"
     ]
    },
    {
     "name": "stderr",
     "output_type": "stream",
     "text": [
      "100%|██████████| 100/100 [00:07<00:00, 12.57it/s]\n"
     ]
    },
    {
     "name": "stdout",
     "output_type": "stream",
     "text": [
      "E: 78 Loss: 10.198092460632324 Dist: 0.09997320175170898 Queries: 241801\n"
     ]
    },
    {
     "name": "stderr",
     "output_type": "stream",
     "text": [
      "100%|██████████| 100/100 [00:08<00:00, 12.29it/s]\n"
     ]
    },
    {
     "name": "stdout",
     "output_type": "stream",
     "text": [
      "E: 79 Loss: 10.206121444702148 Dist: 0.09997594356536865 Queries: 244901\n"
     ]
    },
    {
     "name": "stderr",
     "output_type": "stream",
     "text": [
      "100%|██████████| 100/100 [00:08<00:00, 12.30it/s]\n"
     ]
    },
    {
     "name": "stdout",
     "output_type": "stream",
     "text": [
      "E: 80 Loss: 10.197575569152832 Dist: 0.09997832775115967 Queries: 248001\n"
     ]
    },
    {
     "name": "stderr",
     "output_type": "stream",
     "text": [
      "100%|██████████| 100/100 [00:08<00:00, 12.14it/s]\n"
     ]
    },
    {
     "name": "stdout",
     "output_type": "stream",
     "text": [
      "E: 81 Loss: 10.196863174438477 Dist: 0.09998047351837158 Queries: 251101\n"
     ]
    },
    {
     "name": "stderr",
     "output_type": "stream",
     "text": [
      "100%|██████████| 100/100 [00:08<00:00, 12.42it/s]\n"
     ]
    },
    {
     "name": "stdout",
     "output_type": "stream",
     "text": [
      "E: 82 Loss: 10.18481159210205 Dist: 0.09998250007629395 Queries: 254201\n"
     ]
    },
    {
     "name": "stderr",
     "output_type": "stream",
     "text": [
      "100%|██████████| 100/100 [00:08<00:00, 12.25it/s]\n"
     ]
    },
    {
     "name": "stdout",
     "output_type": "stream",
     "text": [
      "E: 83 Loss: 10.191301345825195 Dist: 0.09998428821563721 Queries: 257301\n"
     ]
    },
    {
     "name": "stderr",
     "output_type": "stream",
     "text": [
      "100%|██████████| 100/100 [00:08<00:00, 12.31it/s]\n"
     ]
    },
    {
     "name": "stdout",
     "output_type": "stream",
     "text": [
      "E: 84 Loss: 10.185662269592285 Dist: 0.09998583793640137 Queries: 260401\n"
     ]
    },
    {
     "name": "stderr",
     "output_type": "stream",
     "text": [
      "100%|██████████| 100/100 [00:08<00:00, 12.10it/s]\n"
     ]
    },
    {
     "name": "stdout",
     "output_type": "stream",
     "text": [
      "E: 85 Loss: 10.209938049316406 Dist: 0.09998726844787598 Queries: 263501\n"
     ]
    },
    {
     "name": "stderr",
     "output_type": "stream",
     "text": [
      "100%|██████████| 100/100 [00:08<00:00, 12.43it/s]\n"
     ]
    },
    {
     "name": "stdout",
     "output_type": "stream",
     "text": [
      "E: 86 Loss: 10.248961448669434 Dist: 0.09998857975006104 Queries: 266601\n"
     ]
    },
    {
     "name": "stderr",
     "output_type": "stream",
     "text": [
      "100%|██████████| 100/100 [00:08<00:00, 12.24it/s]\n"
     ]
    },
    {
     "name": "stdout",
     "output_type": "stream",
     "text": [
      "E: 87 Loss: 10.286901473999023 Dist: 0.09998977184295654 Queries: 269701\n"
     ]
    },
    {
     "name": "stderr",
     "output_type": "stream",
     "text": [
      "100%|██████████| 100/100 [00:08<00:00, 12.29it/s]\n"
     ]
    },
    {
     "name": "stdout",
     "output_type": "stream",
     "text": [
      "E: 88 Loss: 10.265485763549805 Dist: 0.0999908447265625 Queries: 272801\n"
     ]
    },
    {
     "name": "stderr",
     "output_type": "stream",
     "text": [
      "100%|██████████| 100/100 [00:08<00:00, 12.30it/s]\n"
     ]
    },
    {
     "name": "stdout",
     "output_type": "stream",
     "text": [
      "E: 89 Loss: 10.248922348022461 Dist: 0.0999917984008789 Queries: 275901\n"
     ]
    },
    {
     "name": "stderr",
     "output_type": "stream",
     "text": [
      "100%|██████████| 100/100 [00:08<00:00, 11.34it/s]\n"
     ]
    },
    {
     "name": "stdout",
     "output_type": "stream",
     "text": [
      "E: 90 Loss: 10.246731758117676 Dist: 0.09999263286590576 Queries: 279001\n"
     ]
    },
    {
     "name": "stderr",
     "output_type": "stream",
     "text": [
      "100%|██████████| 100/100 [00:08<00:00, 12.14it/s]\n"
     ]
    },
    {
     "name": "stdout",
     "output_type": "stream",
     "text": [
      "E: 91 Loss: 10.269311904907227 Dist: 0.09999334812164307 Queries: 282101\n"
     ]
    },
    {
     "name": "stderr",
     "output_type": "stream",
     "text": [
      "100%|██████████| 100/100 [00:08<00:00, 12.12it/s]\n"
     ]
    },
    {
     "name": "stdout",
     "output_type": "stream",
     "text": [
      "E: 92 Loss: 10.259860038757324 Dist: 0.09999406337738037 Queries: 285201\n"
     ]
    },
    {
     "name": "stderr",
     "output_type": "stream",
     "text": [
      "100%|██████████| 100/100 [00:08<00:00, 12.09it/s]\n"
     ]
    },
    {
     "name": "stdout",
     "output_type": "stream",
     "text": [
      "E: 93 Loss: 10.272871971130371 Dist: 0.09999465942382812 Queries: 288301\n"
     ]
    },
    {
     "name": "stderr",
     "output_type": "stream",
     "text": [
      "100%|██████████| 100/100 [00:08<00:00, 12.17it/s]\n"
     ]
    },
    {
     "name": "stdout",
     "output_type": "stream",
     "text": [
      "E: 94 Loss: 10.258081436157227 Dist: 0.09999525547027588 Queries: 291401\n"
     ]
    },
    {
     "name": "stderr",
     "output_type": "stream",
     "text": [
      "100%|██████████| 100/100 [00:08<00:00, 12.36it/s]\n"
     ]
    },
    {
     "name": "stdout",
     "output_type": "stream",
     "text": [
      "E: 95 Loss: 10.272655487060547 Dist: 0.09999573230743408 Queries: 294501\n"
     ]
    },
    {
     "name": "stderr",
     "output_type": "stream",
     "text": [
      "100%|██████████| 100/100 [00:08<00:00, 12.28it/s]\n"
     ]
    },
    {
     "name": "stdout",
     "output_type": "stream",
     "text": [
      "E: 96 Loss: 10.265730857849121 Dist: 0.09999620914459229 Queries: 297601\n"
     ]
    },
    {
     "name": "stderr",
     "output_type": "stream",
     "text": [
      "100%|██████████| 100/100 [00:08<00:00, 12.34it/s]\n"
     ]
    },
    {
     "name": "stdout",
     "output_type": "stream",
     "text": [
      "E: 97 Loss: 10.256540298461914 Dist: 0.09999656677246094 Queries: 300701\n"
     ]
    },
    {
     "name": "stderr",
     "output_type": "stream",
     "text": [
      "100%|██████████| 100/100 [00:08<00:00, 11.98it/s]\n"
     ]
    },
    {
     "name": "stdout",
     "output_type": "stream",
     "text": [
      "E: 98 Loss: 10.261448860168457 Dist: 0.09999704360961914 Queries: 303801\n"
     ]
    },
    {
     "name": "stderr",
     "output_type": "stream",
     "text": [
      "100%|██████████| 100/100 [00:08<00:00, 12.04it/s]\n"
     ]
    },
    {
     "name": "stdout",
     "output_type": "stream",
     "text": [
      "E: 99 Loss: 10.270817756652832 Dist: 0.09999728202819824 Queries: 306901\n"
     ]
    },
    {
     "name": "stderr",
     "output_type": "stream",
     "text": [
      "100%|██████████| 100/100 [00:08<00:00, 11.81it/s]"
     ]
    },
    {
     "name": "stdout",
     "output_type": "stream",
     "text": [
      "E: 100 Loss: 10.25755500793457 Dist: 0.09999752044677734 Queries: 310001\n",
      "End Loss:10.235568046569824\n"
     ]
    },
    {
     "name": "stderr",
     "output_type": "stream",
     "text": [
      "\n"
     ]
    }
   ],
   "source": [
    "T = 100 # EPOCHS\n",
    "n = 100 # number of examples to attack\n",
    "d = 32*32 # dimension\n",
    "q = 30 # number of times to sample gradient\n",
    " # samples to run on [b,1,d] NOTE: this is flattened\n",
    "x, _, y_true = get_examples(n, 4,test_grabber)\n",
    "s = 0.1 # step size\n",
    "loss_ZOFW, x_ZOFW, query_hist_ZOFW = ZOFW(T, d, s, q, x, y_true, LeNet)"
   ]
  },
  {
   "cell_type": "code",
   "execution_count": 14,
   "metadata": {},
   "outputs": [],
   "source": [
    "np.savetxt('FWBLACK.csv', np.array(loss_ZOFW), delimiter=\",\")"
   ]
  },
  {
   "cell_type": "code",
   "execution_count": 14,
   "metadata": {},
   "outputs": [
    {
     "data": {
      "text/plain": [
       "(-0.5, 31.5, 31.5, -0.5)"
      ]
     },
     "execution_count": 14,
     "metadata": {},
     "output_type": "execute_result"
    },
    {
     "data": {
      "image/png": "[encoded data removed]",
      "text/plain": [
       "<Figure size 640x480 with 3 Axes>"
      ]
     },
     "metadata": {},
     "output_type": "display_data"
    }
   ],
   "source": [
    "idx = -2\n",
    "predicted = torch.argmax(LeNet(x_ZOFW[-1][idx].view((1,1,32,32)))).item()\n",
    "fig, axs = plt.subplots(1,3)\n",
    "axs[0].imshow(x[idx].squeeze().detach().numpy())\n",
    "axs[0].set_title(f'Original: {y_true[idx].item()}')\n",
    "axs[0].axis('off')\n",
    "axs[1].imshow(x_ZOFW[-1][idx].squeeze().detach().numpy() - x[idx].squeeze().detach().numpy())\n",
    "axs[1].set_title('Scaled Perturbation')\n",
    "axs[1].axis('off')\n",
    "axs[2].imshow(x_ZOFW[-1][idx].squeeze().detach().numpy())\n",
    "axs[2].set_title(f'Predicted: {predicted}')\n",
    "axs[2].axis('off')\n",
    "#LeNet(x_ZOFW[idx].view((1,1,32,32)))"
   ]
  },
  {
   "cell_type": "code",
   "execution_count": 12,
   "metadata": {},
   "outputs": [],
   "source": [
    "def ACC_ZOFW_uni(T,d,n,s,gamma, mu, x, y_true, model):\n",
    "  # b1, b2 with b1 > b2\n",
    "  # T, int: number of epoch\n",
    "\n",
    "  b1 = n\n",
    "  q = b2 = int(sqrt(n))\n",
    "  if gamma == -1:\n",
    "    gamma = 1/sqrt(T)\n",
    "  if mu == -1:\n",
    "    mu = 1/sqrt(d*T)\n",
    "  \n",
    "  v = sqrt(2 / (T * (d + 3)**3))\n",
    "  q = 30\n",
    "  \n",
    "  x0 = x.clone()\n",
    "\n",
    "\n",
    "  loss_ACC = []\n",
    "  perturbations=[]\n",
    "  queries = [0]\n",
    "  query_hist = []\n",
    "  # get base Loss\n",
    "  loss_ACC.append(F_torch(x0, y_true, model).item())\n",
    "  print(\"Itr:\", 0, \"Loss:\", F_torch(x0, y_true, model), \"Dist:\", torch.max(torch.abs(x-x0)))\n",
    "\n",
    "  for t in range(T):\n",
    "\n",
    "    if (t % q == 0):\n",
    "      # CASE 1: GRADIENT ESTIMATION WITH LARGER NUMBER OF SAMPLES\n",
    "      # b1 > b2\n",
    "\n",
    "      v_t = 0\n",
    "      for i in tqdm(range(b1)):\n",
    "        v_t = v_t + uniGE(x[i:i+1], y_true[i:i+1], q, v, 32, model, queries)\n",
    "      v_t = v_t / b1\n",
    "      v_t_1 = v_t\n",
    "\n",
    "    else:\n",
    "      # CASE 2: FAST GRADIENT ESTIMATION WITH b2 < b1\n",
    "\n",
    "      v_t = 0\n",
    "      b2_idx = np.random.randint(0, n, b2)\n",
    "\n",
    "      for idx in tqdm(b2_idx,):\n",
    "        v_t = v_t + uniGE(x[idx:idx+1], y_true[idx:idx+1], q, v, 32, model,queries) - uniGE(x_t_1[idx:idx+1], y_true[idx:idx+1], q, v, 32, model, queries) + v_t_1\n",
    "      v_t = (1/b2) * v_t\n",
    "      v_t_1 = v_t\n",
    "\n",
    "\n",
    "    x_t_1 = x.clone()\n",
    "    # LMO STEP\n",
    "    u_t = -s * torch.sign(v_t) + x0\n",
    "    d_t = u_t - x\n",
    "    x = x + gamma*d_t\n",
    "\n",
    "    perturbations.append(x)\n",
    "    loss_ACC.append(F_torch(x, y_true, model).item())\n",
    "    q\n",
    "    print(\"E:\", t+1, \"Loss:\", loss_ACC[t], \"Dist:\", torch.max(torch.abs(x-x0)).item(), \"Queries:\", queries[0])\n",
    "    query_hist.append(queries[0])\n",
    "\n",
    "\n",
    "  ACC_perb = x\n",
    "\n",
    "  print(\"FZCGS Final loss = \", loss_ACC[-1])\n",
    "\n",
    "  return loss_ACC, ACC_perb, query_hist"
   ]
  },
  {
   "cell_type": "code",
   "execution_count": 14,
   "metadata": {},
   "outputs": [
    {
     "name": "stdout",
     "output_type": "stream",
     "text": [
      "Itr: 0 Loss: tensor(12.8952, grad_fn=<MeanBackward0>) Dist: tensor(0.)\n"
     ]
    },
    {
     "name": "stderr",
     "output_type": "stream",
     "text": [
      "100%|██████████| 100/100 [00:07<00:00, 13.42it/s]\n"
     ]
    },
    {
     "name": "stdout",
     "output_type": "stream",
     "text": [
      "E: 1 Loss: 12.895155906677246 Dist: 0.010000109672546387 Queries: 3100\n"
     ]
    },
    {
     "name": "stderr",
     "output_type": "stream",
     "text": [
      "100%|██████████| 10/10 [00:01<00:00,  6.76it/s]\n"
     ]
    },
    {
     "name": "stdout",
     "output_type": "stream",
     "text": [
      "E: 2 Loss: 12.672219276428223 Dist: 0.01900017261505127 Queries: 3720\n"
     ]
    },
    {
     "name": "stderr",
     "output_type": "stream",
     "text": [
      "100%|██████████| 10/10 [00:01<00:00,  6.67it/s]\n"
     ]
    },
    {
     "name": "stdout",
     "output_type": "stream",
     "text": [
      "E: 3 Loss: 12.616832733154297 Dist: 0.027100205421447754 Queries: 4340\n"
     ]
    },
    {
     "name": "stderr",
     "output_type": "stream",
     "text": [
      "100%|██████████| 10/10 [00:01<00:00,  6.69it/s]\n"
     ]
    },
    {
     "name": "stdout",
     "output_type": "stream",
     "text": [
      "E: 4 Loss: 12.58520221710205 Dist: 0.03439009189605713 Queries: 4960\n"
     ]
    },
    {
     "name": "stderr",
     "output_type": "stream",
     "text": [
      "100%|██████████| 10/10 [00:01<00:00,  6.62it/s]\n"
     ]
    },
    {
     "name": "stdout",
     "output_type": "stream",
     "text": [
      "E: 5 Loss: 12.545766830444336 Dist: 0.04095113277435303 Queries: 5580\n"
     ]
    },
    {
     "name": "stderr",
     "output_type": "stream",
     "text": [
      "100%|██████████| 10/10 [00:01<00:00,  6.47it/s]\n"
     ]
    },
    {
     "name": "stdout",
     "output_type": "stream",
     "text": [
      "E: 6 Loss: 12.51134967803955 Dist: 0.046856045722961426 Queries: 6200\n"
     ]
    },
    {
     "name": "stderr",
     "output_type": "stream",
     "text": [
      "100%|██████████| 10/10 [00:01<00:00,  6.51it/s]\n"
     ]
    },
    {
     "name": "stdout",
     "output_type": "stream",
     "text": [
      "E: 7 Loss: 12.478642463684082 Dist: 0.05217045545578003 Queries: 6820\n"
     ]
    },
    {
     "name": "stderr",
     "output_type": "stream",
     "text": [
      "100%|██████████| 10/10 [00:01<00:00,  6.49it/s]\n"
     ]
    },
    {
     "name": "stdout",
     "output_type": "stream",
     "text": [
      "E: 8 Loss: 12.447492599487305 Dist: 0.05695343017578125 Queries: 7440\n"
     ]
    },
    {
     "name": "stderr",
     "output_type": "stream",
     "text": [
      "100%|██████████| 10/10 [00:01<00:00,  6.50it/s]\n"
     ]
    },
    {
     "name": "stdout",
     "output_type": "stream",
     "text": [
      "E: 9 Loss: 12.434494972229004 Dist: 0.06125807762145996 Queries: 8060\n"
     ]
    },
    {
     "name": "stderr",
     "output_type": "stream",
     "text": [
      "100%|██████████| 10/10 [00:01<00:00,  5.86it/s]\n"
     ]
    },
    {
     "name": "stdout",
     "output_type": "stream",
     "text": [
      "E: 10 Loss: 12.426216125488281 Dist: 0.0651322603225708 Queries: 8680\n"
     ]
    },
    {
     "name": "stderr",
     "output_type": "stream",
     "text": [
      "100%|██████████| 10/10 [00:01<00:00,  6.42it/s]\n"
     ]
    },
    {
     "name": "stdout",
     "output_type": "stream",
     "text": [
      "E: 11 Loss: 12.3976411819458 Dist: 0.06861913204193115 Queries: 9300\n"
     ]
    },
    {
     "name": "stderr",
     "output_type": "stream",
     "text": [
      "100%|██████████| 10/10 [00:01<00:00,  6.45it/s]\n"
     ]
    },
    {
     "name": "stdout",
     "output_type": "stream",
     "text": [
      "E: 12 Loss: 12.359384536743164 Dist: 0.07175719738006592 Queries: 9920\n"
     ]
    },
    {
     "name": "stderr",
     "output_type": "stream",
     "text": [
      "100%|██████████| 10/10 [00:01<00:00,  6.33it/s]\n"
     ]
    },
    {
     "name": "stdout",
     "output_type": "stream",
     "text": [
      "E: 13 Loss: 12.341409683227539 Dist: 0.07458150386810303 Queries: 10540\n"
     ]
    },
    {
     "name": "stderr",
     "output_type": "stream",
     "text": [
      "100%|██████████| 10/10 [00:01<00:00,  6.38it/s]\n"
     ]
    },
    {
     "name": "stdout",
     "output_type": "stream",
     "text": [
      "E: 14 Loss: 12.32138442993164 Dist: 0.07712328433990479 Queries: 11160\n"
     ]
    },
    {
     "name": "stderr",
     "output_type": "stream",
     "text": [
      "100%|██████████| 10/10 [00:01<00:00,  6.49it/s]\n"
     ]
    },
    {
     "name": "stdout",
     "output_type": "stream",
     "text": [
      "E: 15 Loss: 12.306340217590332 Dist: 0.07941097021102905 Queries: 11780\n"
     ]
    },
    {
     "name": "stderr",
     "output_type": "stream",
     "text": [
      "100%|██████████| 10/10 [00:01<00:00,  6.31it/s]\n"
     ]
    },
    {
     "name": "stdout",
     "output_type": "stream",
     "text": [
      "E: 16 Loss: 12.295327186584473 Dist: 0.08146989345550537 Queries: 12400\n"
     ]
    },
    {
     "name": "stderr",
     "output_type": "stream",
     "text": [
      "100%|██████████| 10/10 [00:01<00:00,  6.41it/s]\n"
     ]
    },
    {
     "name": "stdout",
     "output_type": "stream",
     "text": [
      "E: 17 Loss: 12.300065040588379 Dist: 0.08332288265228271 Queries: 13020\n"
     ]
    },
    {
     "name": "stderr",
     "output_type": "stream",
     "text": [
      "100%|██████████| 10/10 [00:01<00:00,  6.46it/s]\n"
     ]
    },
    {
     "name": "stdout",
     "output_type": "stream",
     "text": [
      "E: 18 Loss: 12.299938201904297 Dist: 0.08499062061309814 Queries: 13640\n"
     ]
    },
    {
     "name": "stderr",
     "output_type": "stream",
     "text": [
      "100%|██████████| 10/10 [00:01<00:00,  6.39it/s]\n"
     ]
    },
    {
     "name": "stdout",
     "output_type": "stream",
     "text": [
      "E: 19 Loss: 12.289463996887207 Dist: 0.08649158477783203 Queries: 14260\n"
     ]
    },
    {
     "name": "stderr",
     "output_type": "stream",
     "text": [
      "100%|██████████| 10/10 [00:01<00:00,  6.47it/s]\n"
     ]
    },
    {
     "name": "stdout",
     "output_type": "stream",
     "text": [
      "E: 20 Loss: 12.28527545928955 Dist: 0.08784240484237671 Queries: 14880\n"
     ]
    },
    {
     "name": "stderr",
     "output_type": "stream",
     "text": [
      "100%|██████████| 10/10 [00:01<00:00,  5.98it/s]\n"
     ]
    },
    {
     "name": "stdout",
     "output_type": "stream",
     "text": [
      "E: 21 Loss: 12.271671295166016 Dist: 0.08905816078186035 Queries: 15500\n"
     ]
    },
    {
     "name": "stderr",
     "output_type": "stream",
     "text": [
      "100%|██████████| 10/10 [00:01<00:00,  6.40it/s]\n"
     ]
    },
    {
     "name": "stdout",
     "output_type": "stream",
     "text": [
      "E: 22 Loss: 12.269824028015137 Dist: 0.09015238285064697 Queries: 16120\n"
     ]
    },
    {
     "name": "stderr",
     "output_type": "stream",
     "text": [
      "100%|██████████| 10/10 [00:01<00:00,  6.49it/s]\n"
     ]
    },
    {
     "name": "stdout",
     "output_type": "stream",
     "text": [
      "E: 23 Loss: 12.271642684936523 Dist: 0.09113717079162598 Queries: 16740\n"
     ]
    },
    {
     "name": "stderr",
     "output_type": "stream",
     "text": [
      "100%|██████████| 10/10 [00:01<00:00,  6.47it/s]\n"
     ]
    },
    {
     "name": "stdout",
     "output_type": "stream",
     "text": [
      "E: 24 Loss: 12.267668724060059 Dist: 0.09202349185943604 Queries: 17360\n"
     ]
    },
    {
     "name": "stderr",
     "output_type": "stream",
     "text": [
      "100%|██████████| 10/10 [00:01<00:00,  6.37it/s]\n"
     ]
    },
    {
     "name": "stdout",
     "output_type": "stream",
     "text": [
      "E: 25 Loss: 12.257776260375977 Dist: 0.09282112121582031 Queries: 17980\n"
     ]
    },
    {
     "name": "stderr",
     "output_type": "stream",
     "text": [
      "100%|██████████| 10/10 [00:01<00:00,  6.47it/s]\n"
     ]
    },
    {
     "name": "stdout",
     "output_type": "stream",
     "text": [
      "E: 26 Loss: 12.247492790222168 Dist: 0.09353899955749512 Queries: 18600\n"
     ]
    },
    {
     "name": "stderr",
     "output_type": "stream",
     "text": [
      "100%|██████████| 10/10 [00:01<00:00,  6.43it/s]\n"
     ]
    },
    {
     "name": "stdout",
     "output_type": "stream",
     "text": [
      "E: 27 Loss: 12.240684509277344 Dist: 0.09418511390686035 Queries: 19220\n"
     ]
    },
    {
     "name": "stderr",
     "output_type": "stream",
     "text": [
      "100%|██████████| 10/10 [00:01<00:00,  6.51it/s]\n"
     ]
    },
    {
     "name": "stdout",
     "output_type": "stream",
     "text": [
      "E: 28 Loss: 12.224557876586914 Dist: 0.09476661682128906 Queries: 19840\n"
     ]
    },
    {
     "name": "stderr",
     "output_type": "stream",
     "text": [
      "100%|██████████| 10/10 [00:01<00:00,  6.48it/s]\n"
     ]
    },
    {
     "name": "stdout",
     "output_type": "stream",
     "text": [
      "E: 29 Loss: 12.215984344482422 Dist: 0.09528994560241699 Queries: 20460\n"
     ]
    },
    {
     "name": "stderr",
     "output_type": "stream",
     "text": [
      "100%|██████████| 10/10 [00:01<00:00,  6.44it/s]\n"
     ]
    },
    {
     "name": "stdout",
     "output_type": "stream",
     "text": [
      "E: 30 Loss: 12.188955307006836 Dist: 0.09576094150543213 Queries: 21080\n"
     ]
    },
    {
     "name": "stderr",
     "output_type": "stream",
     "text": [
      "100%|██████████| 100/100 [00:07<00:00, 12.73it/s]\n"
     ]
    },
    {
     "name": "stdout",
     "output_type": "stream",
     "text": [
      "E: 31 Loss: 12.162616729736328 Dist: 0.09618484973907471 Queries: 24180\n"
     ]
    },
    {
     "name": "stderr",
     "output_type": "stream",
     "text": [
      "100%|██████████| 10/10 [00:01<00:00,  6.38it/s]\n"
     ]
    },
    {
     "name": "stdout",
     "output_type": "stream",
     "text": [
      "E: 32 Loss: 11.999384880065918 Dist: 0.0965663492679596 Queries: 24800\n"
     ]
    },
    {
     "name": "stderr",
     "output_type": "stream",
     "text": [
      "100%|██████████| 10/10 [00:01<00:00,  6.19it/s]\n"
     ]
    },
    {
     "name": "stdout",
     "output_type": "stream",
     "text": [
      "E: 33 Loss: 11.979774475097656 Dist: 0.09690971672534943 Queries: 25420\n"
     ]
    },
    {
     "name": "stderr",
     "output_type": "stream",
     "text": [
      "100%|██████████| 10/10 [00:01<00:00,  6.04it/s]\n"
     ]
    },
    {
     "name": "stdout",
     "output_type": "stream",
     "text": [
      "E: 34 Loss: 11.975686073303223 Dist: 0.09721875190734863 Queries: 26040\n"
     ]
    },
    {
     "name": "stderr",
     "output_type": "stream",
     "text": [
      "100%|██████████| 10/10 [00:01<00:00,  6.13it/s]\n"
     ]
    },
    {
     "name": "stdout",
     "output_type": "stream",
     "text": [
      "E: 35 Loss: 11.989278793334961 Dist: 0.0974968671798706 Queries: 26660\n"
     ]
    },
    {
     "name": "stderr",
     "output_type": "stream",
     "text": [
      "100%|██████████| 10/10 [00:01<00:00,  6.06it/s]\n"
     ]
    },
    {
     "name": "stdout",
     "output_type": "stream",
     "text": [
      "E: 36 Loss: 12.032129287719727 Dist: 0.09774720668792725 Queries: 27280\n"
     ]
    },
    {
     "name": "stderr",
     "output_type": "stream",
     "text": [
      "100%|██████████| 10/10 [00:01<00:00,  6.13it/s]\n"
     ]
    },
    {
     "name": "stdout",
     "output_type": "stream",
     "text": [
      "E: 37 Loss: 12.06825065612793 Dist: 0.09797251224517822 Queries: 27900\n"
     ]
    },
    {
     "name": "stderr",
     "output_type": "stream",
     "text": [
      "100%|██████████| 10/10 [00:01<00:00,  6.12it/s]\n"
     ]
    },
    {
     "name": "stdout",
     "output_type": "stream",
     "text": [
      "E: 38 Loss: 12.096833229064941 Dist: 0.0981752872467041 Queries: 28520\n"
     ]
    },
    {
     "name": "stderr",
     "output_type": "stream",
     "text": [
      "100%|██████████| 10/10 [00:01<00:00,  5.94it/s]\n"
     ]
    },
    {
     "name": "stdout",
     "output_type": "stream",
     "text": [
      "E: 39 Loss: 12.127886772155762 Dist: 0.09835773706436157 Queries: 29140\n"
     ]
    },
    {
     "name": "stderr",
     "output_type": "stream",
     "text": [
      "100%|██████████| 10/10 [00:01<00:00,  6.00it/s]\n"
     ]
    },
    {
     "name": "stdout",
     "output_type": "stream",
     "text": [
      "E: 40 Loss: 12.167377471923828 Dist: 0.09852194786071777 Queries: 29760\n"
     ]
    },
    {
     "name": "stderr",
     "output_type": "stream",
     "text": [
      "100%|██████████| 10/10 [00:01<00:00,  6.10it/s]\n"
     ]
    },
    {
     "name": "stdout",
     "output_type": "stream",
     "text": [
      "E: 41 Loss: 12.195714950561523 Dist: 0.09866976737976074 Queries: 30380\n"
     ]
    },
    {
     "name": "stderr",
     "output_type": "stream",
     "text": [
      "100%|██████████| 10/10 [00:01<00:00,  6.14it/s]\n"
     ]
    },
    {
     "name": "stdout",
     "output_type": "stream",
     "text": [
      "E: 42 Loss: 12.197076797485352 Dist: 0.09880280494689941 Queries: 31000\n"
     ]
    },
    {
     "name": "stderr",
     "output_type": "stream",
     "text": [
      "100%|██████████| 10/10 [00:01<00:00,  6.21it/s]\n"
     ]
    },
    {
     "name": "stdout",
     "output_type": "stream",
     "text": [
      "E: 43 Loss: 12.211496353149414 Dist: 0.09892255067825317 Queries: 31620\n"
     ]
    },
    {
     "name": "stderr",
     "output_type": "stream",
     "text": [
      "100%|██████████| 10/10 [00:01<00:00,  6.12it/s]\n"
     ]
    },
    {
     "name": "stdout",
     "output_type": "stream",
     "text": [
      "E: 44 Loss: 12.218104362487793 Dist: 0.09903031587600708 Queries: 32240\n"
     ]
    },
    {
     "name": "stderr",
     "output_type": "stream",
     "text": [
      "100%|██████████| 10/10 [00:01<00:00,  6.27it/s]\n"
     ]
    },
    {
     "name": "stdout",
     "output_type": "stream",
     "text": [
      "E: 45 Loss: 12.215178489685059 Dist: 0.09912729263305664 Queries: 32860\n"
     ]
    },
    {
     "name": "stderr",
     "output_type": "stream",
     "text": [
      "100%|██████████| 10/10 [00:01<00:00,  6.33it/s]\n"
     ]
    },
    {
     "name": "stdout",
     "output_type": "stream",
     "text": [
      "E: 46 Loss: 12.2164888381958 Dist: 0.09921455383300781 Queries: 33480\n"
     ]
    },
    {
     "name": "stderr",
     "output_type": "stream",
     "text": [
      "100%|██████████| 10/10 [00:01<00:00,  5.67it/s]\n"
     ]
    },
    {
     "name": "stdout",
     "output_type": "stream",
     "text": [
      "E: 47 Loss: 12.213117599487305 Dist: 0.09929311275482178 Queries: 34100\n"
     ]
    },
    {
     "name": "stderr",
     "output_type": "stream",
     "text": [
      "100%|██████████| 10/10 [00:01<00:00,  6.31it/s]\n"
     ]
    },
    {
     "name": "stdout",
     "output_type": "stream",
     "text": [
      "E: 48 Loss: 12.209674835205078 Dist: 0.09936380386352539 Queries: 34720\n"
     ]
    },
    {
     "name": "stderr",
     "output_type": "stream",
     "text": [
      "100%|██████████| 10/10 [00:01<00:00,  6.31it/s]\n"
     ]
    },
    {
     "name": "stdout",
     "output_type": "stream",
     "text": [
      "E: 49 Loss: 12.22625732421875 Dist: 0.09942746162414551 Queries: 35340\n"
     ]
    },
    {
     "name": "stderr",
     "output_type": "stream",
     "text": [
      "100%|██████████| 10/10 [00:01<00:00,  6.37it/s]\n"
     ]
    },
    {
     "name": "stdout",
     "output_type": "stream",
     "text": [
      "E: 50 Loss: 12.234236717224121 Dist: 0.09948468208312988 Queries: 35960\n"
     ]
    },
    {
     "name": "stderr",
     "output_type": "stream",
     "text": [
      "100%|██████████| 10/10 [00:01<00:00,  6.32it/s]\n"
     ]
    },
    {
     "name": "stdout",
     "output_type": "stream",
     "text": [
      "E: 51 Loss: 12.239252090454102 Dist: 0.0995362401008606 Queries: 36580\n"
     ]
    },
    {
     "name": "stderr",
     "output_type": "stream",
     "text": [
      "100%|██████████| 10/10 [00:01<00:00,  6.30it/s]\n"
     ]
    },
    {
     "name": "stdout",
     "output_type": "stream",
     "text": [
      "E: 52 Loss: 12.267219543457031 Dist: 0.09958261251449585 Queries: 37200\n"
     ]
    },
    {
     "name": "stderr",
     "output_type": "stream",
     "text": [
      "100%|██████████| 10/10 [00:01<00:00,  6.39it/s]\n"
     ]
    },
    {
     "name": "stdout",
     "output_type": "stream",
     "text": [
      "E: 53 Loss: 12.291838645935059 Dist: 0.09962433576583862 Queries: 37820\n"
     ]
    },
    {
     "name": "stderr",
     "output_type": "stream",
     "text": [
      "100%|██████████| 10/10 [00:01<00:00,  6.34it/s]\n"
     ]
    },
    {
     "name": "stdout",
     "output_type": "stream",
     "text": [
      "E: 54 Loss: 12.320823669433594 Dist: 0.0996619462966919 Queries: 38440\n"
     ]
    },
    {
     "name": "stderr",
     "output_type": "stream",
     "text": [
      "100%|██████████| 10/10 [00:01<00:00,  6.27it/s]\n"
     ]
    },
    {
     "name": "stdout",
     "output_type": "stream",
     "text": [
      "E: 55 Loss: 12.351531028747559 Dist: 0.09969580173492432 Queries: 39060\n"
     ]
    },
    {
     "name": "stderr",
     "output_type": "stream",
     "text": [
      "100%|██████████| 10/10 [00:01<00:00,  6.32it/s]\n"
     ]
    },
    {
     "name": "stdout",
     "output_type": "stream",
     "text": [
      "E: 56 Loss: 12.364623069763184 Dist: 0.09972631931304932 Queries: 39680\n"
     ]
    },
    {
     "name": "stderr",
     "output_type": "stream",
     "text": [
      "100%|██████████| 10/10 [00:01<00:00,  6.23it/s]\n"
     ]
    },
    {
     "name": "stdout",
     "output_type": "stream",
     "text": [
      "E: 57 Loss: 12.3898344039917 Dist: 0.099753737449646 Queries: 40300\n"
     ]
    },
    {
     "name": "stderr",
     "output_type": "stream",
     "text": [
      "100%|██████████| 10/10 [00:01<00:00,  6.07it/s]\n"
     ]
    },
    {
     "name": "stdout",
     "output_type": "stream",
     "text": [
      "E: 58 Loss: 12.416622161865234 Dist: 0.09977829456329346 Queries: 40920\n"
     ]
    },
    {
     "name": "stderr",
     "output_type": "stream",
     "text": [
      "100%|██████████| 10/10 [00:01<00:00,  6.37it/s]\n"
     ]
    },
    {
     "name": "stdout",
     "output_type": "stream",
     "text": [
      "E: 59 Loss: 12.439091682434082 Dist: 0.0998004674911499 Queries: 41540\n"
     ]
    },
    {
     "name": "stderr",
     "output_type": "stream",
     "text": [
      "100%|██████████| 10/10 [00:01<00:00,  6.15it/s]\n"
     ]
    },
    {
     "name": "stdout",
     "output_type": "stream",
     "text": [
      "E: 60 Loss: 12.450278282165527 Dist: 0.09982049465179443 Queries: 42160\n"
     ]
    },
    {
     "name": "stderr",
     "output_type": "stream",
     "text": [
      "100%|██████████| 100/100 [00:07<00:00, 12.72it/s]\n"
     ]
    },
    {
     "name": "stdout",
     "output_type": "stream",
     "text": [
      "E: 61 Loss: 12.469632148742676 Dist: 0.09983837604522705 Queries: 45260\n"
     ]
    },
    {
     "name": "stderr",
     "output_type": "stream",
     "text": [
      "100%|██████████| 10/10 [00:01<00:00,  6.36it/s]\n"
     ]
    },
    {
     "name": "stdout",
     "output_type": "stream",
     "text": [
      "E: 62 Loss: 12.289715766906738 Dist: 0.09985458850860596 Queries: 45880\n"
     ]
    },
    {
     "name": "stderr",
     "output_type": "stream",
     "text": [
      "100%|██████████| 10/10 [00:01<00:00,  6.42it/s]\n"
     ]
    },
    {
     "name": "stdout",
     "output_type": "stream",
     "text": [
      "E: 63 Loss: 12.262639999389648 Dist: 0.09986913204193115 Queries: 46500\n"
     ]
    },
    {
     "name": "stderr",
     "output_type": "stream",
     "text": [
      "100%|██████████| 10/10 [00:01<00:00,  5.68it/s]\n"
     ]
    },
    {
     "name": "stdout",
     "output_type": "stream",
     "text": [
      "E: 64 Loss: 12.244207382202148 Dist: 0.09988224506378174 Queries: 47120\n"
     ]
    },
    {
     "name": "stderr",
     "output_type": "stream",
     "text": [
      "100%|██████████| 10/10 [00:01<00:00,  6.32it/s]\n"
     ]
    },
    {
     "name": "stdout",
     "output_type": "stream",
     "text": [
      "E: 65 Loss: 12.249930381774902 Dist: 0.09989404678344727 Queries: 47740\n"
     ]
    },
    {
     "name": "stderr",
     "output_type": "stream",
     "text": [
      "100%|██████████| 10/10 [00:01<00:00,  6.38it/s]\n"
     ]
    },
    {
     "name": "stdout",
     "output_type": "stream",
     "text": [
      "E: 66 Loss: 12.288125038146973 Dist: 0.09990465641021729 Queries: 48360\n"
     ]
    },
    {
     "name": "stderr",
     "output_type": "stream",
     "text": [
      "100%|██████████| 10/10 [00:01<00:00,  6.30it/s]\n"
     ]
    },
    {
     "name": "stdout",
     "output_type": "stream",
     "text": [
      "E: 67 Loss: 12.344970703125 Dist: 0.09991419315338135 Queries: 48980\n"
     ]
    },
    {
     "name": "stderr",
     "output_type": "stream",
     "text": [
      "100%|██████████| 10/10 [00:01<00:00,  6.33it/s]\n"
     ]
    },
    {
     "name": "stdout",
     "output_type": "stream",
     "text": [
      "E: 68 Loss: 12.367366790771484 Dist: 0.099922776222229 Queries: 49600\n"
     ]
    },
    {
     "name": "stderr",
     "output_type": "stream",
     "text": [
      "100%|██████████| 10/10 [00:01<00:00,  6.42it/s]\n"
     ]
    },
    {
     "name": "stdout",
     "output_type": "stream",
     "text": [
      "E: 69 Loss: 12.388611793518066 Dist: 0.0999305248260498 Queries: 50220\n"
     ]
    },
    {
     "name": "stderr",
     "output_type": "stream",
     "text": [
      "100%|██████████| 10/10 [00:01<00:00,  6.43it/s]\n"
     ]
    },
    {
     "name": "stdout",
     "output_type": "stream",
     "text": [
      "E: 70 Loss: 12.42123794555664 Dist: 0.09993743896484375 Queries: 50840\n"
     ]
    },
    {
     "name": "stderr",
     "output_type": "stream",
     "text": [
      "100%|██████████| 10/10 [00:01<00:00,  6.17it/s]\n"
     ]
    },
    {
     "name": "stdout",
     "output_type": "stream",
     "text": [
      "E: 71 Loss: 12.46902847290039 Dist: 0.09994363784790039 Queries: 51460\n"
     ]
    },
    {
     "name": "stderr",
     "output_type": "stream",
     "text": [
      "100%|██████████| 10/10 [00:01<00:00,  6.37it/s]\n"
     ]
    },
    {
     "name": "stdout",
     "output_type": "stream",
     "text": [
      "E: 72 Loss: 12.486353874206543 Dist: 0.09994930028915405 Queries: 52080\n"
     ]
    },
    {
     "name": "stderr",
     "output_type": "stream",
     "text": [
      "100%|██████████| 10/10 [00:01<00:00,  6.31it/s]\n"
     ]
    },
    {
     "name": "stdout",
     "output_type": "stream",
     "text": [
      "E: 73 Loss: 12.519815444946289 Dist: 0.09995436668395996 Queries: 52700\n"
     ]
    },
    {
     "name": "stderr",
     "output_type": "stream",
     "text": [
      "100%|██████████| 10/10 [00:01<00:00,  6.37it/s]\n"
     ]
    },
    {
     "name": "stdout",
     "output_type": "stream",
     "text": [
      "E: 74 Loss: 12.567967414855957 Dist: 0.09995895624160767 Queries: 53320\n"
     ]
    },
    {
     "name": "stderr",
     "output_type": "stream",
     "text": [
      "100%|██████████| 10/10 [00:01<00:00,  6.40it/s]\n"
     ]
    },
    {
     "name": "stdout",
     "output_type": "stream",
     "text": [
      "E: 75 Loss: 12.605206489562988 Dist: 0.09996306896209717 Queries: 53940\n"
     ]
    },
    {
     "name": "stderr",
     "output_type": "stream",
     "text": [
      "100%|██████████| 10/10 [00:01<00:00,  6.36it/s]\n"
     ]
    },
    {
     "name": "stdout",
     "output_type": "stream",
     "text": [
      "E: 76 Loss: 12.64624309539795 Dist: 0.09996676445007324 Queries: 54560\n"
     ]
    },
    {
     "name": "stderr",
     "output_type": "stream",
     "text": [
      "100%|██████████| 10/10 [00:01<00:00,  6.37it/s]\n"
     ]
    },
    {
     "name": "stdout",
     "output_type": "stream",
     "text": [
      "E: 77 Loss: 12.6768159866333 Dist: 0.09997010231018066 Queries: 55180\n"
     ]
    },
    {
     "name": "stderr",
     "output_type": "stream",
     "text": [
      "100%|██████████| 10/10 [00:01<00:00,  6.24it/s]\n"
     ]
    },
    {
     "name": "stdout",
     "output_type": "stream",
     "text": [
      "E: 78 Loss: 12.689745903015137 Dist: 0.09997308254241943 Queries: 55800\n"
     ]
    },
    {
     "name": "stderr",
     "output_type": "stream",
     "text": [
      "100%|██████████| 10/10 [00:01<00:00,  6.38it/s]\n"
     ]
    },
    {
     "name": "stdout",
     "output_type": "stream",
     "text": [
      "E: 79 Loss: 12.691656112670898 Dist: 0.0999758243560791 Queries: 56420\n"
     ]
    },
    {
     "name": "stderr",
     "output_type": "stream",
     "text": [
      "100%|██████████| 10/10 [00:01<00:00,  6.47it/s]\n"
     ]
    },
    {
     "name": "stdout",
     "output_type": "stream",
     "text": [
      "E: 80 Loss: 12.706624984741211 Dist: 0.09997820854187012 Queries: 57040\n"
     ]
    },
    {
     "name": "stderr",
     "output_type": "stream",
     "text": [
      "100%|██████████| 10/10 [00:01<00:00,  6.45it/s]\n"
     ]
    },
    {
     "name": "stdout",
     "output_type": "stream",
     "text": [
      "E: 81 Loss: 12.703286170959473 Dist: 0.0999804139137268 Queries: 57660\n"
     ]
    },
    {
     "name": "stderr",
     "output_type": "stream",
     "text": [
      "100%|██████████| 10/10 [00:01<00:00,  6.47it/s]\n"
     ]
    },
    {
     "name": "stdout",
     "output_type": "stream",
     "text": [
      "E: 82 Loss: 12.708880424499512 Dist: 0.0999823808670044 Queries: 58280\n"
     ]
    },
    {
     "name": "stderr",
     "output_type": "stream",
     "text": [
      "100%|██████████| 10/10 [00:01<00:00,  6.37it/s]\n"
     ]
    },
    {
     "name": "stdout",
     "output_type": "stream",
     "text": [
      "E: 83 Loss: 12.733144760131836 Dist: 0.09998416900634766 Queries: 58900\n"
     ]
    },
    {
     "name": "stderr",
     "output_type": "stream",
     "text": [
      "100%|██████████| 10/10 [00:01<00:00,  6.42it/s]\n"
     ]
    },
    {
     "name": "stdout",
     "output_type": "stream",
     "text": [
      "E: 84 Loss: 12.745746612548828 Dist: 0.09998577833175659 Queries: 59520\n"
     ]
    },
    {
     "name": "stderr",
     "output_type": "stream",
     "text": [
      "100%|██████████| 10/10 [00:01<00:00,  6.26it/s]\n"
     ]
    },
    {
     "name": "stdout",
     "output_type": "stream",
     "text": [
      "E: 85 Loss: 12.75192642211914 Dist: 0.0999872088432312 Queries: 60140\n"
     ]
    },
    {
     "name": "stderr",
     "output_type": "stream",
     "text": [
      "100%|██████████| 10/10 [00:01<00:00,  6.39it/s]\n"
     ]
    },
    {
     "name": "stdout",
     "output_type": "stream",
     "text": [
      "E: 86 Loss: 12.76553726196289 Dist: 0.09998852014541626 Queries: 60760\n"
     ]
    },
    {
     "name": "stderr",
     "output_type": "stream",
     "text": [
      "100%|██████████| 10/10 [00:01<00:00,  6.37it/s]\n"
     ]
    },
    {
     "name": "stdout",
     "output_type": "stream",
     "text": [
      "E: 87 Loss: 12.781578063964844 Dist: 0.09998965263366699 Queries: 61380\n"
     ]
    },
    {
     "name": "stderr",
     "output_type": "stream",
     "text": [
      "100%|██████████| 10/10 [00:01<00:00,  6.47it/s]\n"
     ]
    },
    {
     "name": "stdout",
     "output_type": "stream",
     "text": [
      "E: 88 Loss: 12.789633750915527 Dist: 0.09999072551727295 Queries: 62000\n"
     ]
    },
    {
     "name": "stderr",
     "output_type": "stream",
     "text": [
      "100%|██████████| 10/10 [00:01<00:00,  6.32it/s]\n"
     ]
    },
    {
     "name": "stdout",
     "output_type": "stream",
     "text": [
      "E: 89 Loss: 12.782164573669434 Dist: 0.09999167919158936 Queries: 62620\n"
     ]
    },
    {
     "name": "stderr",
     "output_type": "stream",
     "text": [
      "100%|██████████| 10/10 [00:01<00:00,  6.29it/s]\n"
     ]
    },
    {
     "name": "stdout",
     "output_type": "stream",
     "text": [
      "E: 90 Loss: 12.779677391052246 Dist: 0.09999251365661621 Queries: 63240\n"
     ]
    },
    {
     "name": "stderr",
     "output_type": "stream",
     "text": [
      "100%|██████████| 100/100 [00:08<00:00, 12.45it/s]\n"
     ]
    },
    {
     "name": "stdout",
     "output_type": "stream",
     "text": [
      "E: 91 Loss: 12.77234172821045 Dist: 0.09999322891235352 Queries: 66340\n"
     ]
    },
    {
     "name": "stderr",
     "output_type": "stream",
     "text": [
      "100%|██████████| 10/10 [00:01<00:00,  6.34it/s]\n"
     ]
    },
    {
     "name": "stdout",
     "output_type": "stream",
     "text": [
      "E: 92 Loss: 12.57070541381836 Dist: 0.0999917984008789 Queries: 66960\n"
     ]
    },
    {
     "name": "stderr",
     "output_type": "stream",
     "text": [
      "100%|██████████| 10/10 [00:01<00:00,  6.40it/s]\n"
     ]
    },
    {
     "name": "stdout",
     "output_type": "stream",
     "text": [
      "E: 93 Loss: 12.512707710266113 Dist: 0.09999263286590576 Queries: 67580\n"
     ]
    },
    {
     "name": "stderr",
     "output_type": "stream",
     "text": [
      "100%|██████████| 10/10 [00:01<00:00,  6.25it/s]\n"
     ]
    },
    {
     "name": "stdout",
     "output_type": "stream",
     "text": [
      "E: 94 Loss: 12.526947021484375 Dist: 0.09999334812164307 Queries: 68200\n"
     ]
    },
    {
     "name": "stderr",
     "output_type": "stream",
     "text": [
      "100%|██████████| 10/10 [00:01<00:00,  6.37it/s]\n"
     ]
    },
    {
     "name": "stdout",
     "output_type": "stream",
     "text": [
      "E: 95 Loss: 12.569933891296387 Dist: 0.09999406337738037 Queries: 68820\n"
     ]
    },
    {
     "name": "stderr",
     "output_type": "stream",
     "text": [
      "100%|██████████| 10/10 [00:01<00:00,  6.29it/s]\n"
     ]
    },
    {
     "name": "stdout",
     "output_type": "stream",
     "text": [
      "E: 96 Loss: 12.586014747619629 Dist: 0.09978079795837402 Queries: 69440\n"
     ]
    },
    {
     "name": "stderr",
     "output_type": "stream",
     "text": [
      "100%|██████████| 10/10 [00:01<00:00,  6.36it/s]\n"
     ]
    },
    {
     "name": "stdout",
     "output_type": "stream",
     "text": [
      "E: 97 Loss: 12.586335182189941 Dist: 0.09980273246765137 Queries: 70060\n"
     ]
    },
    {
     "name": "stderr",
     "output_type": "stream",
     "text": [
      "100%|██████████| 10/10 [00:01<00:00,  6.34it/s]\n"
     ]
    },
    {
     "name": "stdout",
     "output_type": "stream",
     "text": [
      "E: 98 Loss: 12.595956802368164 Dist: 0.0998225212097168 Queries: 70680\n"
     ]
    },
    {
     "name": "stderr",
     "output_type": "stream",
     "text": [
      "100%|██████████| 10/10 [00:01<00:00,  6.21it/s]\n"
     ]
    },
    {
     "name": "stdout",
     "output_type": "stream",
     "text": [
      "E: 99 Loss: 12.595284461975098 Dist: 0.09984022378921509 Queries: 71300\n"
     ]
    },
    {
     "name": "stderr",
     "output_type": "stream",
     "text": [
      "100%|██████████| 10/10 [00:01<00:00,  6.41it/s]"
     ]
    },
    {
     "name": "stdout",
     "output_type": "stream",
     "text": [
      "E: 100 Loss: 12.582898139953613 Dist: 0.09985619783401489 Queries: 71920\n",
      "FZCGS Final loss =  12.574392318725586\n"
     ]
    },
    {
     "name": "stderr",
     "output_type": "stream",
     "text": [
      "\n"
     ]
    }
   ],
   "source": [
    "T = 100\n",
    "d = 32*32\n",
    "n = 100\n",
    "s = 0.1\n",
    "gamma = -1\n",
    "mu = -1\n",
    "x, _, y_true = get_examples(n, 4,test_grabber)\n",
    "loss_ACC, x_ACC, query_hist_ACC = ACC_ZOFW_uni(T, d, n, s, gamma, mu, x, y_true, LeNet)"
   ]
  },
  {
   "cell_type": "code",
   "execution_count": 16,
   "metadata": {},
   "outputs": [],
   "source": [
    "np.savetxt('ACCZOFW.csv', np.array(loss_ACC), delimiter=\",\")"
   ]
  },
  {
   "cell_type": "code",
   "execution_count": 23,
   "metadata": {},
   "outputs": [
    {
     "data": {
      "text/plain": [
       "Text(0.5, 1.0, 'Loss history')"
      ]
     },
     "execution_count": 23,
     "metadata": {},
     "output_type": "execute_result"
    },
    {
     "data": {
      "image/png": "[encoded data removed]",
      "text/plain": [
       "<Figure size 640x480 with 1 Axes>"
      ]
     },
     "metadata": {},
     "output_type": "display_data"
    }
   ],
   "source": [
    "loss_ACC = np.genfromtxt(\"ACCZOFW.csv\", delimiter=\",\")\n",
    "loss_ZOFW = np.genfromtxt(\"FWBLACK.csv\", delimiter=\",\")\n",
    "plt.plot(loss_ZOFW, label= 'FW-Black')\n",
    "plt.plot(loss_ACC, label= 'Acc-ZO-FW')\n",
    "plt.xlabel(\"Epoch\")\n",
    "plt.ylabel(\"Loss\")\n",
    "plt.legend()\n",
    "plt.title(\"Loss history\")"
   ]
  }
 ],
 "metadata": {
  "kernelspec": {
   "display_name": "Python 3",
   "language": "python",
   "name": "python3"
  },
  "language_info": {
   "codemirror_mode": {
    "name": "ipython",
    "version": 3
   },
   "file_extension": ".py",
   "mimetype": "text/x-python",
   "name": "python",
   "nbconvert_exporter": "python",
   "pygments_lexer": "ipython3",
   "version": "3.11.4"
  },
  "orig_nbformat": 4
 },
 "nbformat": 4,
 "nbformat_minor": 2
}
